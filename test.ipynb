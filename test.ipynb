{
 "cells": [
  {
   "cell_type": "code",
   "execution_count": 2,
   "id": "c6f119ac",
   "metadata": {},
   "outputs": [
    {
     "name": "stdout",
     "output_type": "stream",
     "text": [
      "Num GPUs Available:  1\n",
      "GPU Device Name:  /physical_device:GPU:0\n"
     ]
    }
   ],
   "source": [
    "import tensorflow as tf\n",
    "\n",
    "# Check if TensorFlow can detect a GPU\n",
    "physical_devices = tf.config.list_physical_devices('GPU')\n",
    "print(\"Num GPUs Available: \", len(physical_devices))\n",
    "\n",
    "# Print the name of the GPU device\n",
    "if len(physical_devices) > 0:\n",
    "    print(\"GPU Device Name: \", physical_devices[0].name)\n",
    "else:\n",
    "    print(\"No GPU found\")\n"
   ]
  },
  {
   "cell_type": "code",
   "execution_count": 7,
   "id": "a806997c",
   "metadata": {},
   "outputs": [
    {
     "name": "stdout",
     "output_type": "stream",
     "text": [
      "Matrix multiplication result: tf.Tensor(\n",
      "[[-33.768414   -68.12112    -15.857461   ...  14.438537     2.1416132\n",
      "   21.206553  ]\n",
      " [-21.958893    36.89167     -0.5781877  ... -16.509224     4.6434193\n",
      "   12.001701  ]\n",
      " [-71.07102     -1.2979733   30.274502   ...  43.08489    -17.701796\n",
      "  -20.456554  ]\n",
      " ...\n",
      " [-28.885818   -10.475034     6.5316815  ...  -0.86812353 -22.487988\n",
      "   12.725861  ]\n",
      " [ -9.2372875  -25.58783     61.582733   ... -14.041324   -21.067423\n",
      "   -3.194689  ]\n",
      " [-15.173407     0.28213692 -33.68117    ...  49.154366   -29.21187\n",
      "  -40.05869   ]], shape=(2000, 2000), dtype=float32)\n",
      "Time taken for matrix multiplication on GPU: 0.0008823871612548828 seconds\n"
     ]
    }
   ],
   "source": [
    "import time\n",
    "\n",
    "# Define a simple matrix multiplication operation\n",
    "def matrix_multiplication():\n",
    "    with tf.device('/GPU:0'):\n",
    "        a = tf.random.normal([2000, 1000])\n",
    "        b = tf.random.normal([1000, 2000])\n",
    "        c = tf.matmul(a, b)\n",
    "    return c\n",
    "\n",
    "# Measure the time taken to execute the operation on the GPU\n",
    "start_time = time.time()\n",
    "result = matrix_multiplication()\n",
    "end_time = time.time()\n",
    "\n",
    "print(\"Matrix multiplication result:\", result)\n",
    "print(\"Time taken for matrix multiplication on GPU: {} seconds\".format(end_time - start_time))\n"
   ]
  },
  {
   "cell_type": "code",
   "execution_count": null,
   "id": "eee63caa",
   "metadata": {},
   "outputs": [],
   "source": []
  }
 ],
 "metadata": {
  "kernelspec": {
   "display_name": "Python 3 (ipykernel)",
   "language": "python",
   "name": "python3"
  },
  "language_info": {
   "codemirror_mode": {
    "name": "ipython",
    "version": 3
   },
   "file_extension": ".py",
   "mimetype": "text/x-python",
   "name": "python",
   "nbconvert_exporter": "python",
   "pygments_lexer": "ipython3",
   "version": "3.12.3"
  }
 },
 "nbformat": 4,
 "nbformat_minor": 5
}
